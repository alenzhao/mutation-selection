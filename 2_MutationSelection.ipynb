{
 "cells": [
  {
   "cell_type": "markdown",
   "metadata": {},
   "source": [
    "# Mutation-selection models in phylogenetics"
   ]
  },
  {
   "cell_type": "markdown",
   "metadata": {},
   "source": [
    "These notes describe a codon-based model of sequence evolution which explicitly model mutation and selection. Substitutions in such a sequence will evolve according to a mutational model (JC69 at the moment, but easily changed) and a selection model (Wright-Fisher, independent sites). These define a rate matrix $Q$ whose $I,J$ entry is given by\n",
    "$$ Q_{IJ} = \\mu_{IJ} \\frac{p(N,s_{IJ})}{p(N,0)}. $$\n",
    "Here $I$ and $J$ index the 61 sense codons. $\\mu_{IJ}$ denotes the mutation rate of codon $I=[i_1, i_2, i_3]$ into codon $J=[j_1, j_2, j_3]$, and is given by\n",
    "$$ \\mu_{IJ} = \\mu_{i_1 j_1} \\mu_{i_2 j_2} \\mu_{i_3 j_3}, $$\n",
    "where $u_{ij}$ are the mutation rates of the nucleotide $i$ into $j$. Selection coefficients are given by\n",
    "$$ s_{IJ} = \\frac{f_J}{f_I}-1, $$\n",
    "where $f_I$ denotes the Darwinian fitness of codon $I$. Finally, $p(N,s)$ denotes Kimura's probability of fixation for the Wright-Fisher process, which for a Haploid population is given and approximated by\n",
    "$$ p(N,s) = \\frac{1-e^{-2s}}{1-e^{-2Ns}} \\approx \\frac{2s}{1-e^{-2Ns}}, \\mbox{ and } p(N,0) = 1/N. $$\n",
    "For the moment we assume $N$ and all $\\mu_{ij}$ to be known. We are primarily concerned with protein evolution, and while we do not deny that codon bias is important, the only unknown parameters in our models will be 20 fitnesses for each amino acid. Let $\\mathbb{C}$ denote the set of codons, and $\\mathbb{A}$ the set of amino acids. Let $ \\mathcal{A}:\\mathbb{C} \\rightarrow \\mathbb{A} $ denote the translation operator, converting codons into amino acids according to the genetic code. The fitness of codon $I$ is then $ f_I = f_{\\mathcal{A}(I)} $. Using the Malthusian fitness $f'_I = \\log(f_I)$ and the Taylor expansion\n",
    "$$ \\log(1+x) = 1+x+\\mathcal{O}(x^2),$$\n",
    "one can show\n",
    "$$ s_{IJ} \\approx f'_J - f'_I. $$\n",
    "Denoting the scaled Malthusian fitness by $ F'_I = 2N f'_I $, a modest calculation shows that\n",
    "$$ q_{IJ} \\approx \\mu_{IJ} \\frac{F'_J-F'_I}{e^{F'_J}-e^{F'_I}} e^{F'_J} $$\n",
    "so that $ Q $ has the form $ Q = Q_S Q_\\pi $, where $ Q_S = Q_S^T $ and $ Q_{\\pi} = $ $\\text{diag}( e^{F'_{C_1}}, \\dots, e^{F'_{C_{61}}} ). $ This is the required structure for a reversible Markov Chain, and hence the equilibrium frequencies of codon $I$ is $ \\pi_{I} = e^{F'_I} $. Following Yang and Nielsen, we parameterize the model in terms of these 20 equilibrium frequencies (there are 20 since they are uniquely determined by fitness and there are only 20 amino acid fitnesses). As such, they should satisfy\n",
    "$$ \\sum_{C \\in \\mathbb{C}} \\pi_c = 1. $$\n",
    "Since scaling the Darwinian fitnesses by a factor $\\alpha$ does not affect the selective coefficients, given the fitnesses we can choose $\\alpha$ such that the above equation holds. Upon calculating\n",
    "$$ \\pi_C = e^{F'_C} = e^{2N\\log(\\alpha f_c)} = \\alpha^{2N} f_c^{2N},$$\n",
    "plugging into the previous equation and solving for $\\alpha$ gives\n",
    "$$ \\alpha = \\left( \\sum_{C \\in \\mathbb{C}} f_C^{2N}\\right)^{-1/2N} = \\left( \\sum_{A \\in \\mathbb{A}} d_A f_A^{2N}\\right)^{-1/2N}, $$\n",
    "where $d_A$ is the degeneracy of amino acid $A$ according to the genetic code. The sum is written in terms of these parameters to avoid redundancy.\n",
    "\n",
    "Thus we may specify Darwinian fitnesses to generate the data, while we estimate equilibrium frequencies when estimating parameters. In terms of this parameterization, the rate matrix is now\n",
    "$$ q_{IJ} = \\mu_{IJ} \\frac{\\log(\\frac{\\pi_J}{\\pi_I})}{1-\\frac{\\pi_I}{\\pi_J}}. $$\n",
    "A given vector of equilibrium frequencies gives a $Q$ matrix, which is used to compute a likelihood via Felsenstein's pruning algorithm. When optimizing over all possible equilibrium frequencies we add the constraints\n",
    "$$ 0 \\le \\pi_A \\le 1 \\mbox{ for all } A \\in \\mathbb{A} \\mbox{ and } \\sum_{A \\in \\mathbb{A}} d_A \\pi_{A} = 1.$$"
   ]
  },
  {
   "cell_type": "code",
   "execution_count": 1,
   "metadata": {
    "collapsed": true
   },
   "outputs": [],
   "source": [
    "import numpy as np\n",
    "import pandas as pd\n",
    "import seaborn as sns\n",
    "from random import seed\n",
    "from itertools import product\n",
    "from Bio.Seq import Seq\n",
    "from scipy.optimize import minimize\n",
    "from data import *\n",
    "from phylo import *\n",
    "import matplotlib.pyplot as plt\n",
    "%matplotlib inline"
   ]
  },
  {
   "cell_type": "code",
   "execution_count": 2,
   "metadata": {
    "collapsed": true
   },
   "outputs": [],
   "source": [
    "random_seed = 1\n",
    "np.random.seed(random_seed)\n",
    "seed(random_seed)"
   ]
  },
  {
   "cell_type": "code",
   "execution_count": 3,
   "metadata": {
    "collapsed": false
   },
   "outputs": [
    {
     "name": "stdout",
     "output_type": "stream",
     "text": [
      " 0  1  2  3  4  5  6  7  8  9 10 11 12 13 14 15 16 17 18 19 \n",
      " A  C  D  E  F  G  H  I  K  L  M  N  P  Q  R  S  T  V  W  Y \n"
     ]
    }
   ],
   "source": [
    "indices_string = ''.join(['%2d ' % i for i in range(20)])\n",
    "amino_acids_string = ''.join(['%2s ' % a for a in amino_acids])\n",
    "print(indices_string+'\\n'+amino_acids_string)"
   ]
  },
  {
   "cell_type": "code",
   "execution_count": 4,
   "metadata": {
    "collapsed": false
   },
   "outputs": [
    {
     "name": "stdout",
     "output_type": "stream",
     "text": [
      " 0) AAA -> K : 8    1) AAG -> K : 8    2) AAC -> N :11    3) AAT -> N :11    4) AGA -> R :14    5) AGG -> R :14   \n",
      " 6) AGC -> S :15    7) AGT -> S :15    8) ACA -> T :16    9) ACG -> T :16   10) ACC -> T :16   11) ACT -> T :16   \n",
      "12) ATA -> I : 7   13) ATG -> M :10   14) ATC -> I : 7   15) ATT -> I : 7   16) GAA -> E : 3   17) GAG -> E : 3   \n",
      "18) GAC -> D : 2   19) GAT -> D : 2   20) GGA -> G : 5   21) GGG -> G : 5   22) GGC -> G : 5   23) GGT -> G : 5   \n",
      "24) GCA -> A : 0   25) GCG -> A : 0   26) GCC -> A : 0   27) GCT -> A : 0   28) GTA -> V :17   29) GTG -> V :17   \n",
      "30) GTC -> V :17   31) GTT -> V :17   32) CAA -> Q :13   33) CAG -> Q :13   34) CAC -> H : 6   35) CAT -> H : 6   \n",
      "36) CGA -> R :14   37) CGG -> R :14   38) CGC -> R :14   39) CGT -> R :14   40) CCA -> P :12   41) CCG -> P :12   \n",
      "42) CCC -> P :12   43) CCT -> P :12   44) CTA -> L : 9   45) CTG -> L : 9   46) CTC -> L : 9   47) CTT -> L : 9   \n",
      "48) TAC -> Y :19   49) TAT -> Y :19   50) TGG -> W :18   51) TGC -> C : 1   52) TGT -> C : 1   53) TCA -> S :15   \n",
      "54) TCG -> S :15   55) TCC -> S :15   56) TCT -> S :15   57) TTA -> L : 9   58) TTG -> L : 9   59) TTC -> F : 4   \n",
      "60) TTT -> F : 4   "
     ]
    }
   ],
   "source": [
    "translate = lambda codon: str(Seq(codon).translate())\n",
    "codon_index_for_amino_acid_index = np.zeros(61, dtype=np.int)\n",
    "for i, codon in enumerate(codons):\n",
    "    amino_acid = translate(codon)\n",
    "    amino_acid_index = amino_acids.tolist().index(amino_acid)\n",
    "    codon_index_for_amino_acid_index[i] = amino_acid_index\n",
    "    print('%2d) %s -> %s :%2d   ' % (i, codon, amino_acid, amino_acid_index), end='')\n",
    "    if (i+1) % 6 == 0:\n",
    "        print('')"
   ]
  },
  {
   "cell_type": "code",
   "execution_count": 5,
   "metadata": {
    "collapsed": false
   },
   "outputs": [],
   "source": [
    "degeneracy = np.zeros(20, dtype=np.int)\n",
    "for codon in codons:\n",
    "    amino_acid = translate(codon)\n",
    "    amino_acid_index = amino_acids.tolist().index(amino_acid)\n",
    "    degeneracy[amino_acid_index] += 1"
   ]
  },
  {
   "cell_type": "code",
   "execution_count": 6,
   "metadata": {
    "collapsed": true
   },
   "outputs": [],
   "source": [
    "N = 10000\n",
    "mu = 1e-8\n",
    "fitnesses = np.linspace(1, 1+1/N, 20)\n",
    "mean_of_fitnesses = np.mean(fitnesses)\n",
    "fitnesses /= mean_of_fitnesses\n",
    "products = degeneracy*fitnesses**(2*N)\n",
    "alpha = np.sum(products)**(-1/(2*N))\n",
    "frequencies = (alpha*fitnesses)**(2*N)\n",
    "# JC69 matrix\n",
    "Qmu = jc69(mu)"
   ]
  },
  {
   "cell_type": "code",
   "execution_count": 7,
   "metadata": {
    "collapsed": false
   },
   "outputs": [
    {
     "data": {
      "image/png": "[encoded data removed]",
      "text/plain": [
       "<matplotlib.figure.Figure at 0x7f700c0794e0>"
      ]
     },
     "metadata": {},
     "output_type": "display_data"
    }
   ],
   "source": [
    "fvec = fitnesses.reshape(-1,1)\n",
    "Smat = np.dot(fvec, 1/fvec.T)-1.\n",
    "S = 2*N*Smat.flatten()\n",
    "sns.distplot(S, bins=19)\n",
    "plt.show()"
   ]
  },
  {
   "cell_type": "code",
   "execution_count": 8,
   "metadata": {
    "collapsed": false
   },
   "outputs": [],
   "source": [
    "nucleotide_to_index = {'A':0, 'G':1, 'C':2, 'T':3}\n",
    "codon_frequencies = frequencies[codon_index_for_amino_acid_index]\n",
    "def Qmutsel(frequencies):\n",
    "    Q = np.zeros((61, 61))\n",
    "    # Upper case letters index codons, lower case index amino acids\n",
    "    for I, codon_I in enumerate(codons):\n",
    "        i = codon_index_for_amino_acid_index[I]\n",
    "        for J, codon_J in enumerate(codons):\n",
    "            j = codon_index_for_amino_acid_index[J]\n",
    "            # Selection\n",
    "            if I != J:\n",
    "                current_absolute_error = np.abs(frequencies[i]-frequencies[j])\n",
    "                if current_absolute_error < 1e-12:\n",
    "                    Q[I, J] = 1\n",
    "                else:\n",
    "                    numerator = np.log(frequencies[j]/frequencies[i])\n",
    "                    denominator = (1-frequencies[i]/frequencies[j])\n",
    "                    Q[I, J] = numerator/denominator\n",
    "            # Mutation\n",
    "            for k in range(3):\n",
    "                nucleotide_i = codon_I[k]\n",
    "                nucleotide_j = codon_J[k]\n",
    "                if nucleotide_i != nucleotide_j:\n",
    "                    i_n = nucleotide_to_index[nucleotide_i]\n",
    "                    j_n = nucleotide_to_index[nucleotide_j]\n",
    "                    Q[I, J] *= Qmu[i_n, j_n]\n",
    "        Q[I, I] = -np.sum(Q[I,:])\n",
    "    beta = np.sum(codon_frequencies*np.diag(Q))\n",
    "    Q /= beta\n",
    "    return Q"
   ]
  },
  {
   "cell_type": "code",
   "execution_count": 9,
   "metadata": {
    "collapsed": false
   },
   "outputs": [],
   "source": [
    "Q = Qmutsel(frequencies)\n",
    "sequence_length = 400\n",
    "sequence = random_sequence(sequence_length, codon_frequencies)\n",
    "extant_taxa = 200\n",
    "tree = phylogenetic_tree(extant_taxa)\n",
    "data = generate_data(sequence, Q, tree)"
   ]
  },
  {
   "cell_type": "code",
   "execution_count": 10,
   "metadata": {
    "collapsed": false
   },
   "outputs": [],
   "source": [
    "pi0 = np.ones(20)\n",
    "pi0 /= np.dot(pi0, degeneracy)\n",
    "bounds = 20*((1e-12, 1), )\n",
    "sumtoone = lambda pi: np.dot(pi, degeneracy)-1\n",
    "constraints = {'type':'eq', 'fun':sumtoone}\n",
    "def negative_likelihood(pi):\n",
    "    Q = Qmutsel(pi)\n",
    "    return -prune(data, tree, Q, pi[codon_index_for_amino_acid_index])\n",
    "result = minimize(negative_likelihood, pi0, bounds=bounds, constraints=constraints, tol=1e-3)"
   ]
  },
  {
   "cell_type": "code",
   "execution_count": 11,
   "metadata": {
    "collapsed": false
   },
   "outputs": [
    {
     "data": {
      "image/png": "[encoded data removed]",
      "text/plain": [
       "<matplotlib.figure.Figure at 0x7f70095ed128>"
      ]
     },
     "metadata": {},
     "output_type": "display_data"
    }
   ],
   "source": [
    "freq_max = np.max(frequencies)\n",
    "plt.scatter(frequencies, result.x)\n",
    "plt.plot([0, freq_max], [0, freq_max])\n",
    "plt.axis('equal')\n",
    "plt.show()"
   ]
  },
  {
   "cell_type": "code",
   "execution_count": 12,
   "metadata": {
    "collapsed": false
   },
   "outputs": [
    {
     "data": {
      "text/plain": [
       "(array([0, 1, 2, 3, 4, 5, 6, 7, 8, 9]), <a list of 10 Text xticklabel objects>)"
      ]
     },
     "execution_count": 12,
     "metadata": {},
     "output_type": "execute_result"
    },
    {
     "data": {
      "image/png": "[encoded data removed]",
      "text/plain": [
       "<matplotlib.figure.Figure at 0x7f70095f7400>"
      ]
     },
     "metadata": {},
     "output_type": "display_data"
    }
   ],
   "source": [
    "approx_fvec = (result.x**(1/(2*N))/alpha).reshape(-1, 1)\n",
    "approx_Smat =  np.dot(approx_fvec, 1/approx_fvec.T)-1.\n",
    "approx_S = 2*N*approx_Smat.flatten()\n",
    "n_bins = 10\n",
    "S_counts, S_bins = np.histogram(S, bins=n_bins)\n",
    "bin_locs = list(.5*(S_bins[1:]+S_bins[:-1]))\n",
    "approx_S_counts, _ = np.histogram(approx_S, bins=S_bins)\n",
    "plot_df = pd.DataFrame({\n",
    "        'locs': 2*bin_locs,\n",
    "        'S': np.hstack([S_counts, approx_S_counts]),\n",
    "        'type': n_bins*['True']+n_bins*['Approx']\n",
    "    })\n",
    "ax = sns.barplot(x='locs', y='S', data=plot_df, hue='type')\n",
    "plt.xticks(rotation=45)"
   ]
  }
 ],
 "metadata": {
  "kernelspec": {
   "display_name": "Python 3",
   "language": "python",
   "name": "python3"
  },
  "language_info": {
   "codemirror_mode": {
    "name": "ipython",
    "version": 3
   },
   "file_extension": ".py",
   "mimetype": "text/x-python",
   "name": "python",
   "nbconvert_exporter": "python",
   "pygments_lexer": "ipython3",
   "version": "3.5.1"
  }
 },
 "nbformat": 4,
 "nbformat_minor": 0
}
